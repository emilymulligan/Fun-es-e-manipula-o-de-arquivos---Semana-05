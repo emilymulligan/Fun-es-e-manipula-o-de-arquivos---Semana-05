{
  "nbformat": 4,
  "nbformat_minor": 0,
  "metadata": {
    "colab": {
      "provenance": [],
      "include_colab_link": true
    },
    "kernelspec": {
      "name": "python3",
      "display_name": "Python 3"
    },
    "language_info": {
      "name": "python"
    }
  },
  "cells": [
    {
      "cell_type": "markdown",
      "metadata": {
        "id": "view-in-github",
        "colab_type": "text"
      },
      "source": [
        "<a href=\"https://colab.research.google.com/github/emilymulligan/Fun-es-e-manipula-o-de-arquivos---Semana-05/blob/main/C%C3%B3pia_de_Atividade_Fun%C3%A7%C3%B5es_e_manipula%C3%A7%C3%A3o_de_arquivos_Semana_05.ipynb\" target=\"_parent\"><img src=\"https://colab.research.google.com/assets/colab-badge.svg\" alt=\"Open In Colab\"/></a>"
      ]
    },
    {
      "cell_type": "markdown",
      "source": [
        "![Growdev](https://www.growdev.com.br/assets/images/logo_growdev.png)"
      ],
      "metadata": {
        "id": "v8pFWwviib2C"
      }
    },
    {
      "cell_type": "markdown",
      "source": [
        "![Formação Engenharia de Dados](https://d335luupugsy2.cloudfront.net/cms/files/524558/1707226566/$occu5m8t1op)"
      ],
      "metadata": {
        "id": "6Tkl4_HxifXZ"
      }
    },
    {
      "cell_type": "markdown",
      "source": [
        "Este material tem como objetivo incentivar a prática dos conteúdos estudados até o momento, e a pesquisa. Tenha em consideração que o exercício foi pensado para incentivar a prática dos conteúdos estudados até então, porém aprender a pesquisar faz parte do processo de aprendizagem.\n",
        "\n",
        "Fique tranquilo, faça os exercícios com calma, e boa prática!\n"
      ],
      "metadata": {
        "id": "ty7Bzyl1i9bN"
      }
    },
    {
      "cell_type": "markdown",
      "source": [
        "#Orientações:\n",
        "\n",
        " - Faça uma copia deste arquivo\n",
        " - Após concluir os exercicios, suba seu exercicio para o GitHub e compartilhe o link no **google** Classroom\n"
      ],
      "metadata": {
        "id": "DU5-yCQwjx3V"
      }
    },
    {
      "cell_type": "markdown",
      "source": [
        "#Exercícios"
      ],
      "metadata": {
        "id": "EzT810tnlmfE"
      }
    },
    {
      "cell_type": "markdown",
      "source": [
        "#Funções"
      ],
      "metadata": {
        "id": "rDqBAimhSq_C"
      }
    },
    {
      "cell_type": "markdown",
      "source": [
        "Escreva uma função chamada soma que recebe dois números como parâmetros e retorna a soma deles"
      ],
      "metadata": {
        "id": "AkBqdNST8bCY"
      }
    },
    {
      "cell_type": "code",
      "source": [
        "def soma(a, b):\n",
        "  return a + b\n",
        "\n",
        "a = int(input('Digite um número:'))\n",
        "b = int(input('Digite outro número:'))\n",
        "\n",
        "print(soma(a, b))"
      ],
      "metadata": {
        "id": "J427Pi2p8THC",
        "colab": {
          "base_uri": "https://localhost:8080/"
        },
        "outputId": "11744f66-f2c8-4405-adf0-a8350edd22ad"
      },
      "execution_count": null,
      "outputs": [
        {
          "output_type": "stream",
          "name": "stdout",
          "text": [
            "Digite um número:1\n",
            "Digite outro número:3\n",
            "4\n"
          ]
        }
      ]
    },
    {
      "cell_type": "markdown",
      "source": [
        "Escreva uma função chamada verificar_paridade que recebe um número como parâmetro e retorna True se for par e False se for ímpar."
      ],
      "metadata": {
        "id": "NAa3MBAM830W"
      }
    },
    {
      "cell_type": "code",
      "source": [
        "def verificar_paridade(n):\n",
        "  if n % 2 == 0:\n",
        "    return True\n",
        "  else:\n",
        "      return False\n",
        "n = int(input('Digite um número:'))\n",
        "\n",
        "print(verificar_paridade(n))\n"
      ],
      "metadata": {
        "id": "CRlV5NE82kpE",
        "colab": {
          "base_uri": "https://localhost:8080/"
        },
        "outputId": "5ffafc32-2efa-4d2b-d198-91f467f23cd6"
      },
      "execution_count": null,
      "outputs": [
        {
          "output_type": "stream",
          "name": "stdout",
          "text": [
            "Digite um número:2\n",
            "True\n"
          ]
        }
      ]
    },
    {
      "cell_type": "markdown",
      "source": [
        "Escreva uma função chamada verificar_palindromo que recebe uma string como parâmetro e retorna True se for um palíndromo (uma palavra que é igual se lida da esquerda para a direita e vice-versa) e False caso contrário."
      ],
      "metadata": {
        "id": "S7Rh1p4N8_dp"
      }
    },
    {
      "cell_type": "code",
      "source": [
        "def verificar_palindromo(palavra):\n",
        "   if palavra == palavra [::-1]:\n",
        "    return True\n",
        "   else:\n",
        "    return False\n",
        "\n",
        "palavra = input('Digite uma palavra:')\n",
        "\n",
        "print(verificar_palindromo(palavra))"
      ],
      "metadata": {
        "id": "jY3rGEWc9Gb5",
        "colab": {
          "base_uri": "https://localhost:8080/"
        },
        "outputId": "e9a89f59-430b-46ad-b801-2a3ca4412189"
      },
      "execution_count": null,
      "outputs": [
        {
          "output_type": "stream",
          "name": "stdout",
          "text": [
            "Digite uma palavra:hoje\n",
            "False\n"
          ]
        }
      ]
    },
    {
      "cell_type": "markdown",
      "source": [
        "##Desafio listas e funções:"
      ],
      "metadata": {
        "id": "suLU217H9G51"
      }
    },
    {
      "cell_type": "markdown",
      "source": [
        "Crie uma função que representa o jogo batalha naval.\n",
        "\n",
        "Dentro da função crie uma estrutura bidimensional utilizando listas com sublistas para representar um tabuleiro (1 lista com 20 elementos e cada elemento é uma lista de 20 elementos, tabuleiro 20x20). Cada posição irá armazenar 1 valor numérico que significa:\n",
        "- 0 - Água\n",
        "- 1 - Navio\n",
        "\n",
        "Para cada posição escolha esses valores aleatoriamente, respeitando a regra de que não podem existir mais de 20 navios no tabuleiro.\n",
        "\n",
        "Após os valores serem distribuídos, o programa deve pedir ao usuário uma posição do tabuleiro e informar se ele acertou um navio ou água e repetir o procedimento até que o usuário derrote todos os navios ou chegue ao limite de 35 tentativas.\n",
        "\n"
      ],
      "metadata": {
        "id": "zv3Edx_T-TF5"
      }
    },
    {
      "cell_type": "code",
      "source": [
        "import random\n",
        "\n",
        "def cria_tabuleiro():\n",
        "\n",
        "    tabuleiro = [[0] * 20 for _ in range(20)]\n",
        "\n",
        "    max_navios = 20\n",
        "\n",
        "    while max_navios > 0:\n",
        "        x = random.randint(0, 19)\n",
        "        y = random.randint(0, 19)\n",
        "        if tabuleiro[x][y] != 1:\n",
        "            tabuleiro[x][y] = 1\n",
        "            max_navios -= 1\n",
        "    return tabuleiro\n",
        "\n",
        "def jogar_batalha_naval():\n",
        "    tabuleiro = cria_tabuleiro()\n",
        "    tentativas = 0\n",
        "    navios_afundados = 0\n",
        "    max_tentativas = 35\n",
        "\n",
        "    print(\"Bem-vindo ao jogo de Batalha Naval!\")\n",
        "    print(\"Você tem que afundar todos os navios. Cada vez que você atinge um navio, ele afunda.\")\n",
        "    print(\"Boa sorte!\")\n",
        "\n",
        "    while tentativas < max_tentativas and navios_afundados < 20:\n",
        "        print(\"\\nTentativa\", tentativas + 1)\n",
        "        x = int(input(\"Digite a linha (0-19): \"))\n",
        "        y = int(input(\"Digite a coluna (0-19): \"))\n",
        "\n",
        "        if x < 0 or x > 19 or y < 0 or y > 19:\n",
        "            print(\"Posição inválida. Por favor, insira valores entre 0 e 19.\")\n",
        "            continue\n",
        "\n",
        "        if tabuleiro[x][y] == 1:\n",
        "            print(\"Você acertou um navio!\")\n",
        "            navios_afundados += 1\n",
        "            tabuleiro[x][y] = 0\n",
        "        else:\n",
        "            print(\"Água.\")\n",
        "\n",
        "        tentativas += 1\n",
        "\n",
        "    if navios_afundados == 20:\n",
        "        print(\"\\nParabéns! Você afundou todos os navios!\")\n",
        "    else:\n",
        "        print(\"\\nVocê alcançou o limite de tentativas. Game over.\")\n",
        "\n",
        "\n",
        "jogar_batalha_naval()\n"
      ],
      "metadata": {
        "id": "G-pr5Wcg_vCw"
      },
      "execution_count": null,
      "outputs": []
    },
    {
      "cell_type": "markdown",
      "source": [
        "Modifique o programa anterior para exibir as seguintes estatísticas.\n",
        "- Acertos em água\n",
        "- Acertos em Navios\n",
        "- Porcentagem de acertos em água\n",
        "- Porcentagem de acertos em Navios\n",
        "- Acertos ininterruptos (maior quantidade de acertos em sequência)"
      ],
      "metadata": {
        "id": "WUXJN6Dg_GET"
      }
    },
    {
      "cell_type": "code",
      "source": [
        "import random\n",
        "\n",
        "def cria_tabuleiro():\n",
        "    tabuleiro = [[0] * 20 for _ in range(20)]\n",
        "    max_navios = 20\n",
        "\n",
        "    while max_navios > 0:\n",
        "        x = random.randint(0, 19)\n",
        "        y = random.randint(0, 19)\n",
        "        if tabuleiro[x][y] != 1:\n",
        "            tabuleiro[x][y] = 1\n",
        "            max_navios -= 1\n",
        "    return tabuleiro\n",
        "\n",
        "def jogar_batalha_naval():\n",
        "    tabuleiro = cria_tabuleiro()\n",
        "    tentativas = 0\n",
        "    navios_afundados = 0\n",
        "    max_tentativas = 35\n",
        "    acertos_agua = 0\n",
        "    acertos_navio = 0\n",
        "    acertos_ininterruptos = 0\n",
        "    acertos_ininterruptos_atual = 0\n",
        "\n",
        "    print(\"Bem-vindo ao jogo de Batalha Naval!\")\n",
        "    print(\"Você tem que afundar todos os navios. Cada vez que você atinge um navio, ele afunda.\")\n",
        "    print(\"Boa sorte!\")\n",
        "\n",
        "    while tentativas < max_tentativas and navios_afundados < 20:\n",
        "        print(\"\\nTentativa\", tentativas + 1)\n",
        "        x = int(input(\"Digite a linha (0-19): \"))\n",
        "        y = int(input(\"Digite a coluna (0-19): \"))\n",
        "\n",
        "        if x < 0 or x > 19 or y < 0 or y > 19:\n",
        "            print(\"Posição inválida. Por favor, insira valores entre 0 e 19.\")\n",
        "            continue\n",
        "\n",
        "        if tabuleiro[x][y] == 1:\n",
        "            print(\"Você acertou um navio!\")\n",
        "            navios_afundados += 1\n",
        "            tabuleiro[x][y] = 0\n",
        "            acertos_navio += 1\n",
        "            acertos_ininterruptos_atual += 1\n",
        "        else:\n",
        "            print(\"Água.\")\n",
        "            acertos_agua += 1\n",
        "            acertos_ininterruptos_atual = 0\n",
        "\n",
        "        if acertos_ininterruptos_atual > acertos_ininterruptos:\n",
        "            acertos_ininterruptos = acertos_ininterruptos_atual\n",
        "\n",
        "        tentativas += 1\n",
        "\n",
        "    porcentagem_agua = (acertos_agua / tentativas) * 100 if tentativas > 0 else 0\n",
        "    porcentagem_navio = (acertos_navio / tentativas) * 100 if tentativas > 0 else 0\n",
        "\n",
        "    print(\"\\nEstatísticas do jogo:\")\n",
        "    print(\"Acertos em água:\", acertos_agua)\n",
        "    print(\"Acertos em navios:\", acertos_navio)\n",
        "    print(\"Porcentagem de acertos em água: {:.2f}%\".format(porcentagem_agua))\n",
        "    print(\"Porcentagem de acertos em navios: {:.2f}%\".format(porcentagem_navio))\n",
        "    print(\"Acertos ininterruptos máximos:\", acertos_ininterruptos)\n",
        "\n",
        "    if navios_afundados == 20:\n",
        "        print(\"\\nParabéns! Você afundou todos os navios!\")\n",
        "    else:\n",
        "        print(\"\\nVocê alcançou o limite de tentativas. Game over.\")\n",
        "\n",
        "jogar_batalha_naval()\n"
      ],
      "metadata": {
        "id": "N5itlDvd_Hbi"
      },
      "execution_count": null,
      "outputs": []
    },
    {
      "cell_type": "markdown",
      "source": [
        "#Manipulação de arquivos: Conteudo será trabalhado na aula do"
      ],
      "metadata": {
        "id": "ffEKF4Kx5eQu"
      }
    },
    {
      "cell_type": "markdown",
      "source": [
        "UUtilize o arquivo ‘compras.csv’ como base para resolver os seguintes exercícios.  disponivel em: https://drive.google.com/file/d/1cqqr7kWuBYYJxJ8W_-KHmcZHs6sfV_is/view"
      ],
      "metadata": {
        "id": "IrQvRhQM5oj6"
      }
    },
    {
      "cell_type": "markdown",
      "source": [
        "Utilize as seguintes faixas etárias nos exercícios em que for necessário.\n",
        "- Jovens, 18 a 25 anos\n",
        "- Adultos, 26 a 59 anos\n",
        "- Idosos, igual ou maior que 60 anos\n"
      ],
      "metadata": {
        "id": "J8g6sYrl3Xjg"
      }
    },
    {
      "cell_type": "markdown",
      "source": [
        "Func lista"
      ],
      "metadata": {
        "id": "ZJpTRgx3XdQd"
      }
    },
    {
      "cell_type": "code",
      "source": [
        "import csv\n",
        "\n",
        "def ler_csv_para_lista(caminho_arquivo):\n",
        "    dados = []\n",
        "    with open(caminho_arquivo, newline='', encoding='utf-8') as csvfile:\n",
        "        leitor = csv.reader(csvfile)\n",
        "        cabecalho = next(leitor)\n",
        "        for linha in leitor:\n",
        "            dados.append(linha)\n",
        "    return cabecalho, dados"
      ],
      "metadata": {
        "id": "Jh8PRzZpUaIZ"
      },
      "execution_count": null,
      "outputs": []
    },
    {
      "cell_type": "code",
      "source": [
        "cabecalho, dados = ler_csv_para_lista('/compras.csv')"
      ],
      "metadata": {
        "id": "2CNAael-bhxK"
      },
      "execution_count": null,
      "outputs": []
    },
    {
      "cell_type": "markdown",
      "source": [
        "func dic"
      ],
      "metadata": {
        "id": "51LKHrRRXfhF"
      }
    },
    {
      "cell_type": "code",
      "source": [
        "import csv\n",
        "\n",
        "def ler_csv_para_dicionario(caminho_arquivo):\n",
        "    dados = {}\n",
        "    with open(caminho_arquivo, newline='', encoding='utf-8') as csvfile:\n",
        "        leitor = csv.reader(csvfile)\n",
        "        cabecalho = next(leitor)  # Lê a linha de cabeçalho\n",
        "\n",
        "        for i, linha in enumerate(leitor):\n",
        "            individuo = {cabecalho[j]: linha[j] for j in range(len(cabecalho))}\n",
        "            dados[i] = individuo\n",
        "\n",
        "    return dados\n"
      ],
      "metadata": {
        "id": "EdtiIwqKVjtQ"
      },
      "execution_count": null,
      "outputs": []
    },
    {
      "cell_type": "code",
      "source": [
        "dados_dicionario = ler_csv_para_dicionario('/compras.csv')"
      ],
      "metadata": {
        "id": "5_wCLU4DVlds"
      },
      "execution_count": null,
      "outputs": []
    },
    {
      "cell_type": "code",
      "source": [
        "import pprint"
      ],
      "metadata": {
        "id": "Ink56mcQVpNS"
      },
      "execution_count": null,
      "outputs": []
    },
    {
      "cell_type": "markdown",
      "source": [
        "Procure quem foi a pessoa que mais gastou?"
      ],
      "metadata": {
        "id": "apGpARF-3nW9"
      }
    },
    {
      "cell_type": "markdown",
      "source": [
        "Com dic"
      ],
      "metadata": {
        "id": "lTCfBbOjXZYx"
      }
    },
    {
      "cell_type": "code",
      "source": [
        "def encontrar_maior_gasto(dados):\n",
        "    maior_gasto = 0\n",
        "    pessoa_maior_gasto = None\n",
        "\n",
        "    for individuo, info in dados.items():\n",
        "        gasto = float(info['compra'])\n",
        "        if gasto > maior_gasto:\n",
        "            maior_gasto = gasto\n",
        "            pessoa_maior_gasto = info\n",
        "    return pessoa_maior_gasto"
      ],
      "metadata": {
        "id": "EPX_3cU33XOh"
      },
      "execution_count": null,
      "outputs": []
    },
    {
      "cell_type": "code",
      "source": [
        "retorno = encontrar_maior_gasto(dados_dicionario)"
      ],
      "metadata": {
        "id": "lEohRvDSWYlJ"
      },
      "execution_count": null,
      "outputs": []
    },
    {
      "cell_type": "markdown",
      "source": [
        "Com lista"
      ],
      "metadata": {
        "id": "-WQ9JImSXa01"
      }
    },
    {
      "cell_type": "code",
      "source": [
        "def encontrar_maior_gasto_lista(cabecalho, dados):\n",
        "    indice_compra = cabecalho.index('compra')\n",
        "    maior_gasto = 0\n",
        "    pessoa_maior_gasto = None\n",
        "\n",
        "    for linha in dados:\n",
        "        gasto = float(linha[indice_compra])\n",
        "        if gasto > maior_gasto:\n",
        "            maior_gasto = gasto\n",
        "            pessoa_maior_gasto = linha\n",
        "\n",
        "    pessoa_info = {cabecalho[i]: pessoa_maior_gasto[i] for i in range(len(cabecalho))}\n",
        "    return pessoa_info"
      ],
      "metadata": {
        "id": "zTKcFQ6CXHDC"
      },
      "execution_count": null,
      "outputs": []
    },
    {
      "cell_type": "code",
      "source": [
        "encontrar_maior_gasto_lista(cabecalho, dados)"
      ],
      "metadata": {
        "colab": {
          "base_uri": "https://localhost:8080/"
        },
        "id": "x4yRgjBfXOPF",
        "outputId": "ceeb29ba-61f8-455e-fa8b-6d4bb261828a"
      },
      "execution_count": null,
      "outputs": [
        {
          "output_type": "execute_result",
          "data": {
            "text/plain": [
              "{'nome': 'Gabriel',\n",
              " 'sobrenome': 'Pereira',\n",
              " 'idade': '67',\n",
              " 'sexo': 'M',\n",
              " 'compra': '9998',\n",
              " 'ano': '2016',\n",
              " 'pagamento': 'debito'}"
            ]
          },
          "metadata": {},
          "execution_count": 16
        }
      ]
    },
    {
      "cell_type": "markdown",
      "source": [
        "Busque quais são os anos da base de dados?"
      ],
      "metadata": {
        "id": "3PBqAffp3o9I"
      }
    },
    {
      "cell_type": "code",
      "source": [
        "import csv\n",
        "\n",
        "def encontrar_anos_na_base_dados(dados):\n",
        "    anos = set()\n",
        "\n",
        "    for pessoa in dados:\n",
        "        data_compra = pessoa['data']\n",
        "        ano_compra = int(data_compra.split('-')[0])\n",
        "        anos.add(ano_compra)\n",
        "\n",
        "    return sorted(anos)\n",
        "\n",
        "def ler_dados_compras(caminho_arquivo):\n",
        "    with open(caminho_arquivo, newline='', encoding='utf-8') as arquivo:\n",
        "        leitor_csv = csv.DictReader(arquivo)\n",
        "        dados = list(leitor_csv)\n",
        "    return dados\n",
        "\n",
        "caminho_arquivo = 'caminho/para/o/arquivo/compras.csv'\n",
        "\n",
        "\n",
        "dados_compras = ler_dados_compras(caminho_arquivo)\n",
        "\n",
        "anos_base_dados = encontrar_anos_na_base_dados(dados_compras)\n",
        "\n",
        "print(\"Anos presentes na base de dados:\", anos_base_dados)\n",
        "\n"
      ],
      "metadata": {
        "id": "lqgX2B6x5fLc"
      },
      "execution_count": null,
      "outputs": []
    },
    {
      "cell_type": "markdown",
      "source": [
        "Qual a porcentagem de homens e mulheres na base de dados?"
      ],
      "metadata": {
        "id": "R2DKj08Z5tqJ"
      }
    },
    {
      "cell_type": "code",
      "source": [
        "import csv\n",
        "\n",
        "def calcular_porcentagem_homem_mulher(dados):\n",
        "    total_pessoas = len(dados)\n",
        "    total_homens = sum(1 for pessoa in dados if pessoa['genero'].lower() == 'masculino')\n",
        "    total_mulheres = total_pessoas - total_homens\n",
        "    porcentagem_homens = (total_homens / total_pessoas) * 100\n",
        "    porcentagem_mulheres = (total_mulheres / total_pessoas) * 100\n",
        "    return porcentagem_homens, porcentagem_mulheres\n",
        "\n",
        "def ler_dados_compras(caminho_arquivo):\n",
        "    with open(caminho_arquivo, newline='', encoding='utf-8') as arquivo:\n",
        "        leitor_csv = csv.DictReader(arquivo)\n",
        "        dados = list(leitor_csv)\n",
        "    return dados\n",
        "\n",
        "caminho_arquivo = 'caminho/para/o/arquivo/compras.csv'\n",
        "\n",
        "dados_compras = ler_dados_compras(caminho_arquivo)\n",
        "\n",
        "porcentagem_homens, porcentagem_mulheres = calcular_porcentagem_homem_mulher(dados_compras)\n",
        "\n",
        "print(\"Porcentagem de homens na base de dados:\", porcentagem_homens)\n",
        "print(\"Porcentagem de mulheres na base de dados:\", porcentagem_mulheres)\n"
      ],
      "metadata": {
        "id": "3wZDjRn03xB0"
      },
      "execution_count": null,
      "outputs": []
    },
    {
      "cell_type": "markdown",
      "source": [
        "Qual foi o gasto por ano?"
      ],
      "metadata": {
        "id": "Nou_jojr3ztM"
      }
    },
    {
      "cell_type": "code",
      "source": [
        "import csv\n",
        "from collections import defaultdict\n",
        "\n",
        "def calcular_gasto_por_ano(dados):\n",
        "    gasto_por_ano = defaultdict(float)\n",
        "\n",
        "    for pessoa in dados:\n",
        "        ano = pessoa['data'].split('-')[0]\n",
        "        valor_compra = float(pessoa['valor'])\n",
        "        gasto_por_ano[ano] += valor_compra\n",
        "\n",
        "    return gasto_por_ano\n",
        "\n",
        "def ler_dados_compras(caminho_arquivo):\n",
        "    with open(caminho_arquivo, newline='', encoding='utf-8') as arquivo:\n",
        "        leitor_csv = csv.DictReader(arquivo)\n",
        "        dados = list(leitor_csv)\n",
        "    return dados\n",
        "\n",
        "caminho_arquivo = 'caminho/para/o/arquivo/compras.csv'\n",
        "\n",
        "dados_compras = ler_dados_compras(caminho_arquivo)\n",
        "\n",
        "gasto_por_ano = calcular_gasto_por_ano(dados_compras)\n",
        "\n",
        "for ano, gasto in gasto_por_ano.items():\n",
        "    print(f\"Gasto em {ano}: R${gasto:.2f}\")\n"
      ],
      "metadata": {
        "id": "hjBuBCDb30YI"
      },
      "execution_count": null,
      "outputs": []
    },
    {
      "cell_type": "markdown",
      "source": [
        "Qual foi o ano com maior gasto?"
      ],
      "metadata": {
        "id": "vgN3teMQ32pg"
      }
    },
    {
      "cell_type": "code",
      "source": [
        "import csv\n",
        "\n",
        "def encontrar_ano_com_maior_gasto(dados):\n",
        "    gasto_por_ano = {}\n",
        "\n",
        "    for pessoa in dados:\n",
        "        ano = pessoa['data'].split('-')[0]\n",
        "        valor_compra = float(pessoa['valor'])\n",
        "\n",
        "        if ano in gasto_por_ano:\n",
        "            gasto_por_ano[ano] += valor_compra\n",
        "        else:\n",
        "            gasto_por_ano[ano] = valor_compra\n",
        "\n",
        "    ano_maior_gasto = max(gasto_por_ano, key=gasto_por_ano.get)\n",
        "    return ano_maior_gasto\n",
        "\n",
        "def ler_dados_compras(caminho_arquivo):\n",
        "    with open(caminho_arquivo, newline='', encoding='utf-8') as arquivo:\n",
        "        leitor_csv = csv.DictReader(arquivo)\n",
        "        dados = list(leitor_csv)\n",
        "    return dados\n",
        "\n",
        "caminho_arquivo = 'caminho/para/o/arquivo/compras.csv'\n",
        "\n",
        "dados_compras = ler_dados_compras(caminho_arquivo)\n",
        "\n",
        "ano_maior_gasto = encontrar_ano_com_maior_gasto(dados_compras)\n",
        "\n",
        "print(\"O ano com maior gasto foi:\", ano_maior_gasto)"
      ],
      "metadata": {
        "id": "JmN_ZHBV35ss"
      },
      "execution_count": null,
      "outputs": []
    },
    {
      "cell_type": "markdown",
      "source": [
        "Utilizando as faixas etárias, diga quantas pessoas há em cada faixa?"
      ],
      "metadata": {
        "id": "V_y9EX0p34-E"
      }
    },
    {
      "cell_type": "code",
      "source": [
        "import csv\n",
        "\n",
        "def contar_pessoas_por_faixa_etaria(dados):\n",
        "    faixas_etarias = {'Jovens': 25, 'Adultos': 59, 'Idosos': float('inf')}\n",
        "    pessoas_por_faixa = {faixa: 0 for faixa in faixas_etarias}\n",
        "\n",
        "    for pessoa in dados:\n",
        "        idade = int(pessoa['idade'])\n",
        "        for faixa_etaria, idade_limite in faixas_etarias.items():\n",
        "            if idade <= idade_limite:\n",
        "                pessoas_por_faixa[faixa_etaria] += 1\n",
        "                break\n",
        "\n",
        "    return pessoas_por_faixa\n",
        "\n",
        "def ler_dados_compras(caminho_arquivo):\n",
        "    with open(caminho_arquivo, newline='', encoding='utf-8') as arquivo:\n",
        "        leitor_csv = csv.DictReader(arquivo)\n",
        "        dados = list(leitor_csv)\n",
        "    return dados\n",
        "\n",
        "caminho_arquivo = 'caminho/para/o/arquivo/compras.csv'\n",
        "\n",
        "dados_compras = ler_dados_compras(caminho_arquivo)\n",
        "\n",
        "pessoas_por_faixa = contar_pessoas_por_faixa_etaria(dados_compras)\n",
        "\n",
        "for faixa_etaria, quantidade in pessoas_por_faixa.items():\n",
        "    print(f\"Pessoas na faixa etária '{faixa_etaria}': {quantidade}\")"
      ],
      "metadata": {
        "id": "ukkjPSE738r8"
      },
      "execution_count": null,
      "outputs": []
    },
    {
      "cell_type": "markdown",
      "source": [
        "Qual é a faixa etária que mais gasta?"
      ],
      "metadata": {
        "id": "_7qmp-1y36Ac"
      }
    },
    {
      "cell_type": "code",
      "source": [
        "import csv\n",
        "\n",
        "def calcular_gastos_por_faixa_etaria(dados):\n",
        "    faixas_etarias = {'Jovens': 25, 'Adultos': 59, 'Idosos': float('inf')}\n",
        "    gastos_por_faixa = {faixa: 0 for faixa in faixas_etarias}\n",
        "\n",
        "    for pessoa in dados:\n",
        "        idade = int(pessoa['idade'])\n",
        "        gasto = float(pessoa['valor'])\n",
        "\n",
        "        for faixa_etaria, idade_limite in faixas_etarias.items():\n",
        "            if idade <= idade_limite:\n",
        "                gastos_por_faixa[faixa_etaria] += gasto\n",
        "                break\n",
        "\n",
        "    return gastos_por_faixa\n",
        "\n",
        "def ler_dados_compras(caminho_arquivo):\n",
        "    with open(caminho_arquivo, newline='', encoding='utf-8') as arquivo:\n",
        "        leitor_csv = csv.DictReader(arquivo)\n",
        "        dados = list(leitor_csv)\n",
        "    return dados\n",
        "\n",
        "caminho_arquivo = 'caminho/para/o/arquivo/compras.csv'\n",
        "\n",
        "dados_compras = ler_dados_compras(caminho_arquivo)\n",
        "\n",
        "gastos_por_faixa_etaria = calcular_gastos_por_faixa_etaria(dados_compras)\n",
        "\n",
        "\n",
        "faixa_mais_gasta = max(gastos_por_faixa_etaria, key=gastos_por_faixa_etaria.get)\n",
        "total_gastos_faixa_mais_gasta = gastos_por_faixa_etaria[faixa_mais_gasta]\n",
        "\n",
        "print(f\"A faixa etária que mais gasta é '{faixa_mais_gasta}' com um total de gastos de R${total_gastos_faixa_mais_gasta:.2f}.\")\n"
      ],
      "metadata": {
        "id": "O0_Wt4I838V0"
      },
      "execution_count": null,
      "outputs": []
    },
    {
      "cell_type": "markdown",
      "source": [
        "A opção de débito é mais utilizada entre homens ou mulheres?"
      ],
      "metadata": {
        "id": "L_EUiizw3-jM"
      }
    },
    {
      "cell_type": "code",
      "source": [
        "import csv\n",
        "\n",
        "def contar_uso_debito_por_genero(dados):\n",
        "    uso_debito_por_genero = {'Homens': 0, 'Mulheres': 0}\n",
        "\n",
        "    for pessoa in dados:\n",
        "        genero = pessoa['genero']\n",
        "        metodo_pagamento = pessoa['pagamento']\n",
        "\n",
        "        if metodo_pagamento == 'debito':\n",
        "            if genero.lower() == 'masculino':\n",
        "                uso_debito_por_genero['Homens'] += 1\n",
        "            elif genero.lower() == 'feminino':\n",
        "                uso_debito_por_genero['Mulheres'] += 1\n",
        "\n",
        "    return uso_debito_por_genero\n",
        "\n",
        "def ler_dados_compras(caminho_arquivo):\n",
        "    with open(caminho_arquivo, newline='', encoding='utf-8') as arquivo:\n",
        "        leitor_csv = csv.DictReader(arquivo)\n",
        "        dados = list(leitor_csv)\n",
        "    return dados\n",
        "\n",
        "caminho_arquivo = 'caminho/para/o/arquivo/compras.csv'\n",
        "\n",
        "dados_compras = ler_dados_compras(caminho_arquivo)\n",
        "\n",
        "\n",
        "uso_debito_por_genero = contar_uso_debito_por_genero(dados_compras)\n",
        "\n",
        "\n",
        "if uso_debito_por_genero['Homens'] > uso_debito_por_genero['Mulheres']:\n",
        "    print(\"A opção de débito é mais utilizada entre homens.\")\n",
        "elif uso_debito_por_genero['Homens'] < uso_debito_por_genero['Mulheres']:\n",
        "    print(\"A opção de débito é mais utilizada entre mulheres.\")\n",
        "else:\n",
        "    print(\"O uso de débito é igualmente comum entre homens e mulheres.\")"
      ],
      "metadata": {
        "id": "dIKB7PXj3_DE"
      },
      "execution_count": null,
      "outputs": []
    },
    {
      "cell_type": "markdown",
      "source": [
        "Qual o sobrenome que mais aparece na base de dados?"
      ],
      "metadata": {
        "id": "jOMpl3Th4Bkm"
      }
    },
    {
      "cell_type": "code",
      "source": [
        "import csv\n",
        "from collections import Counter\n",
        "\n",
        "def encontrar_sobrenome_mais_comum(dados):\n",
        "    sobrenomes = [pessoa['nome'].split()[-1] for pessoa in dados]\n",
        "    contagem_sobrenomes = Counter(sobrenomes)\n",
        "    sobrenome_mais_comum = contagem_sobrenomes.most_common(1)[0][0]\n",
        "    return sobrenome_mais_comum\n",
        "\n",
        "def ler_dados_compras(caminho_arquivo):\n",
        "    with open(caminho_arquivo, newline='', encoding='utf-8') as arquivo:\n",
        "        leitor_csv = csv.DictReader(arquivo)\n",
        "        dados = list(leitor_csv)\n",
        "    return dados\n",
        "\n",
        "caminho_arquivo = 'caminho/para/o/arquivo/compras.csv'\n",
        "\n",
        "dados_compras = ler_dados_compras(caminho_arquivo)\n",
        "\n",
        "sobrenome_mais_comum = encontrar_sobrenome_mais_comum(dados_compras)\n",
        "\n",
        "print(\"O sobrenome mais comum na base de dados é:\", sobrenome_mais_comum)\n"
      ],
      "metadata": {
        "id": "LDFe_62s4B_Q"
      },
      "execution_count": null,
      "outputs": []
    },
    {
      "cell_type": "markdown",
      "source": [
        "Qual foi o ano em que os homens mais usaram o crédito?"
      ],
      "metadata": {
        "id": "Q7VS9K_Q4ECM"
      }
    },
    {
      "cell_type": "code",
      "source": [
        "import csv\n",
        "from collections import Counter\n",
        "\n",
        "def ano_mais_uso_credito_por_homens(dados):\n",
        "    uso_credito_por_ano = Counter()\n",
        "\n",
        "    for pessoa in dados:\n",
        "        ano = pessoa['data'].split('-')[0]\n",
        "        genero = pessoa['genero']\n",
        "        metodo_pagamento = pessoa['pagamento']\n",
        "\n",
        "        if genero.lower() == 'masculino' and metodo_pagamento.lower() == 'credito':\n",
        "            uso_credito_por_ano[ano] += 1\n",
        "\n",
        "    ano_mais_uso_credito = uso_credito_por_ano.most_common(1)[0][0]\n",
        "    return ano_mais_uso_credito\n",
        "\n",
        "def ler_dados_compras(caminho_arquivo):\n",
        "    with open(caminho_arquivo, newline='', encoding='utf-8') as arquivo:\n",
        "        leitor_csv = csv.DictReader(arquivo)\n",
        "        dados = list(leitor_csv)\n",
        "    return dados\n",
        "\n",
        "caminho_arquivo = 'caminho/para/o/arquivo/compras.csv'\n",
        "\n",
        "dados_compras = ler_dados_compras(caminho_arquivo)\n",
        "\n",
        "\n",
        "ano_mais_uso_credito = ano_mais_uso_credito_por_homens(dados_compras)\n",
        "\n",
        "print(\"O ano em que os homens mais usaram o crédito foi:\", ano_mais_uso_credito)\n"
      ],
      "metadata": {
        "id": "5H60b3n64Ee0"
      },
      "execution_count": null,
      "outputs": []
    },
    {
      "cell_type": "markdown",
      "source": [
        "Qual opção de pagamento é mais utilizada em cada faixa etária?"
      ],
      "metadata": {
        "id": "ebnmp5KD4GPw"
      }
    },
    {
      "cell_type": "code",
      "source": [
        "import csv\n",
        "from collections import defaultdict\n",
        "\n",
        "def opcao_pagamento_por_faixa_etaria(dados):\n",
        "    # Definir faixas etárias\n",
        "    faixas_etarias = {'Jovens': (18, 25), 'Adultos': (26, 59), 'Idosos': (60, float('inf'))}\n",
        "\n",
        "    # Inicializar dicionário para armazenar contagem de opções de pagamento por faixa etária\n",
        "    opcoes_pagamento_por_faixa = defaultdict(Counter)\n",
        "\n",
        "    # Iterar sobre os dados e contar opções de pagamento por faixa etária\n",
        "    for pessoa in dados:\n",
        "        idade = int(pessoa['idade'])\n",
        "        metodo_pagamento = pessoa['pagamento']\n",
        "\n",
        "        for faixa_etaria, (idade_min, idade_max) in faixas_etarias.items():\n",
        "            if idade_min <= idade <= idade_max:\n",
        "                opcoes_pagamento_por_faixa[faixa_etaria][metodo_pagamento] += 1\n",
        "                break  # Interrompe o loop após encontrar a faixa etária correspondente\n",
        "\n",
        "    return opcoes_pagamento_por_faixa\n",
        "\n",
        "def ler_dados_compras(caminho_arquivo):\n",
        "    with open(caminho_arquivo, newline='', encoding='utf-8') as arquivo:\n",
        "        leitor_csv = csv.DictReader(arquivo)\n",
        "        dados = list(leitor_csv)\n",
        "    return dados\n",
        "\n",
        "caminho_arquivo = 'caminho/para/o/arquivo/compras.csv'\n",
        "\n",
        "dados_compras = ler_dados_compras(caminho_arquivo)\n",
        "\n",
        "opcoes_pagamento_por_faixa = opcao_pagamento_por_faixa_etaria(dados_compras)\n",
        "\n",
        "\n",
        "for faixa_etaria, contagem_opcoes in opcoes_pagamento_por_faixa.items():\n",
        "    opcao_mais_utilizada = max(contagem_opcoes, key=contagem_opcoes.get)\n",
        "    total_opcoes = sum(contagem_opcoes.values())\n",
        "    print(f\"Faixa etária: {faixa_etaria}, Opção mais utilizada: {opcao_mais_utilizada}, Total de transações: {total_opcoes}\")\n"
      ],
      "metadata": {
        "id": "NumXkC5p4H7s"
      },
      "execution_count": null,
      "outputs": []
    },
    {
      "cell_type": "markdown",
      "source": [
        "Qual o valor gasto em compras por jovens do ano de 2010 até 2015?"
      ],
      "metadata": {
        "id": "jRKhI6Dv4IQJ"
      }
    },
    {
      "cell_type": "code",
      "source": [
        "import csv\n",
        "\n",
        "def calcular_gastos_jovens_por_ano(dados):\n",
        "    gastos_jovens_por_ano = {}\n",
        "\n",
        "    for pessoa in dados:\n",
        "        idade = int(pessoa['idade'])\n",
        "        ano = int(pessoa['data'].split('-')[0])\n",
        "        valor_compra = float(pessoa['valor'])\n",
        "\n",
        "        if 18 <= idade <= 25 and 2010 <= ano <= 2015:\n",
        "            if ano in gastos_jovens_por_ano:\n",
        "                gastos_jovens_por_ano[ano] += valor_compra\n",
        "            else:\n",
        "                gastos_jovens_por_ano[ano] = valor_compra\n",
        "\n",
        "    return gastos_jovens_por_ano\n",
        "\n",
        "def ler_dados_compras(caminho_arquivo):\n",
        "    with open(caminho_arquivo, newline='', encoding='utf-8') as arquivo:\n",
        "        leitor_csv = csv.DictReader(arquivo)\n",
        "        dados = list(leitor_csv)\n",
        "    return dados\n",
        "\n",
        "caminho_arquivo = 'caminho/para/o/arquivo/compras.csv'\n",
        "\n",
        "dados_compras = ler_dados_compras(caminho_arquivo)\n",
        "\n",
        "gastos_jovens_por_ano = calcular_gastos_jovens_por_ano(dados_compras)\n",
        "\n",
        "total_gasto_jovens = sum(gastos_jovens_por_ano.values())\n",
        "\n",
        "print(\"O valor gasto em compras por jovens no período de 2010 a 2015 foi de R${:.2f}\".format(total_gasto_jovens))\n"
      ],
      "metadata": {
        "id": "6SXstcF54Itk"
      },
      "execution_count": null,
      "outputs": []
    }
  ]
}